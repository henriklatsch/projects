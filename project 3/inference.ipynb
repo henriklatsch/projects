{
 "cells": [
  {
   "cell_type": "code",
   "execution_count": null,
   "metadata": {},
   "outputs": [],
   "source": [
    "import os\n",
    "from ultralytics import YOLO\n",
    "import numpy as np\n",
    "import json\n",
    "from PIL import Image"
   ]
  },
  {
   "attachments": {},
   "cell_type": "markdown",
   "metadata": {},
   "source": [
    "### Create dictionary for image numbers"
   ]
  },
  {
   "cell_type": "code",
   "execution_count": null,
   "metadata": {},
   "outputs": [],
   "source": [
    "filename = 'image_ids.txt'  # replace with your file name\n",
    "\n",
    "with open(filename, 'r') as f:\n",
    "    imgnumbers = {}  # create an empty dictionary\n",
    "    for line in f.readlines():\n",
    "        line_data = line.split()  # split the line into two values\n",
    "        key = line_data[0]  # use the first value as the key\n",
    "        value = line_data[1]  # use the second value as the value\n",
    "        imgnumbers.update({value: key})  # add the key-value pair to the dictionary\n"
   ]
  },
  {
   "attachments": {},
   "cell_type": "markdown",
   "metadata": {},
   "source": [
    "### Crop and stretch test images to ideal format"
   ]
  },
  {
   "cell_type": "code",
   "execution_count": null,
   "metadata": {},
   "outputs": [],
   "source": [
    "def crop_image(image_path, ratio = 1):\n",
    "    # Open the image\n",
    "    img = Image.open(image_path)\n",
    "\n",
    "    # Get the dimensions of the image\n",
    "    width, height = img.size\n",
    "\n",
    "    # Find the minimum dimension\n",
    "    min_dimension = min(width, height)\n",
    "\n",
    "    # Set the coordinates of the leftmost part of the image to be kept\n",
    "    left = 0\n",
    "    top = 1000\n",
    "    right = min_dimension * ratio\n",
    "    bottom = min_dimension\n",
    "\n",
    "    # Crop the image to a square using the leftmost part\n",
    "    img = img.crop((left, top, right, bottom))\n",
    "\n",
    "    return img\n",
    "\n",
    "def stretch_images(input_folder, output_folder):\n",
    "    # Make sure output_folder exists\n",
    "    if not os.path.exists(output_folder):\n",
    "        os.makedirs(output_folder)\n",
    "    \n",
    "    # Loop through images in input_folder\n",
    "    for filename in os.listdir(input_folder):\n",
    "        if filename.endswith(\".jpg\") or filename.endswith(\".png\"):\n",
    "            # Open image\n",
    "            input_path = os.path.join(input_folder, filename)\n",
    "            img = Image.open(input_path)\n",
    "            \n",
    "            # Get dimensions\n",
    "            width, height = img.size\n",
    "            \n",
    "            # Calculate new dimensions\n",
    "            if width < height:\n",
    "                new_width = height\n",
    "                new_height = height\n",
    "            else:\n",
    "                new_width = width\n",
    "                new_height = width\n",
    "            \n",
    "            # Stretch image\n",
    "            img = img.resize((new_width, new_height))\n",
    "            \n",
    "            # Save image to output_folder\n",
    "            output_path = os.path.join(output_folder, filename)\n",
    "            img.save(output_path)"
   ]
  },
  {
   "cell_type": "code",
   "execution_count": null,
   "metadata": {},
   "outputs": [],
   "source": [
    "# Set the input and output directories\n",
    "input_dir = 'test/images/'\n",
    "output_dir = 'test/imagescropped/'\n",
    "\n",
    "# Create the output directory if it doesn't exist\n",
    "if not os.path.exists(output_dir):\n",
    "    os.makedirs(output_dir)\n",
    "\n",
    "# Process each image in the input directory\n",
    "for filename in os.listdir(input_dir):\n",
    "    # Skip non-image files\n",
    "    if not filename.endswith('.jpg') and not filename.endswith('.png'):\n",
    "        continue\n",
    "\n",
    "    # Crop the image to a square\n",
    "    img = crop_image(os.path.join(input_dir, filename), ratio=1.3)\n",
    "\n",
    "    # Save the cropped image to the output directory\n",
    "    output_filename = os.path.join(output_dir, filename)\n",
    "    img.save(output_filename)\n",
    "\n",
    "stretch_images(input_folder=output_dir, output_folder='test/imagescropped_stretched/')"
   ]
  },
  {
   "attachments": {},
   "cell_type": "markdown",
   "metadata": {},
   "source": [
    "### Load model"
   ]
  },
  {
   "cell_type": "code",
   "execution_count": null,
   "metadata": {},
   "outputs": [],
   "source": [
    "model = YOLO('path_to_model')"
   ]
  },
  {
   "attachments": {},
   "cell_type": "markdown",
   "metadata": {},
   "source": [
    "### Test prediction on single image"
   ]
  },
  {
   "cell_type": "code",
   "execution_count": null,
   "metadata": {},
   "outputs": [],
   "source": [
    "model.predict(source='path_to_image', show=True)"
   ]
  },
  {
   "attachments": {},
   "cell_type": "markdown",
   "metadata": {},
   "source": [
    "### Save inference video"
   ]
  },
  {
   "cell_type": "code",
   "execution_count": null,
   "metadata": {},
   "outputs": [],
   "source": [
    "video = model.predict(source='path_to_videofile', show=False, save=True)"
   ]
  },
  {
   "attachments": {},
   "cell_type": "markdown",
   "metadata": {},
   "source": [
    "### Run inference on entire test set"
   ]
  },
  {
   "cell_type": "code",
   "execution_count": null,
   "metadata": {},
   "outputs": [],
   "source": [
    "results = model.predict(source=\"test/imagescropped6stretched/\", show=False, imgsz=640, stream=True)"
   ]
  },
  {
   "cell_type": "code",
   "execution_count": null,
   "metadata": {},
   "outputs": [],
   "source": [
    "detected_objs = []\n",
    "\n",
    "counter = 0\n",
    "\n",
    "for r in results:\n",
    "    for box in r.boxes:\n",
    "        bbox = box.xywh[0].tolist()\n",
    "        bbox[0] = bbox[0] - (bbox[2] / 2)\n",
    "        bbox[1] = ((bbox[1] - (bbox[3] / 2)) * 0.39245) + 1000 # Rescaling bbox and adding 1000 to the cropped height\n",
    "        bbox[3] = bbox[3] * 0.39245 # Scaling factor\n",
    "        detected_objs.append({\n",
    "            'image_id' : int(imgnumbers[r.path.split('/')[-1]]),\n",
    "            'bbox' : bbox,\n",
    "            'category_id' : int(box.cls),\n",
    "            'id' : counter,\n",
    "            'score' : float(box.conf)})\n",
    "        counter += 1"
   ]
  },
  {
   "attachments": {},
   "cell_type": "markdown",
   "metadata": {},
   "source": [
    "### See number of detected bounding boxes and first bounding box"
   ]
  },
  {
   "cell_type": "code",
   "execution_count": null,
   "metadata": {},
   "outputs": [],
   "source": [
    "print('Number of bounding boxes:' + str(len(detected_objs)))\n",
    "print('First bounding box:')\n",
    "print(detected_objs[0])"
   ]
  },
  {
   "attachments": {},
   "cell_type": "markdown",
   "metadata": {},
   "source": [
    "### Write the bounding boxes to a json file"
   ]
  },
  {
   "cell_type": "code",
   "execution_count": null,
   "metadata": {},
   "outputs": [],
   "source": [
    "json_output = json.dumps(detected_objs)\n",
    "\n",
    "with open(\"output.json\", \"w\") as outfile:\n",
    "    outfile.write(json_output)"
   ]
  }
 ],
 "metadata": {
  "kernelspec": {
   "display_name": "base",
   "language": "python",
   "name": "python3"
  },
  "language_info": {
   "codemirror_mode": {
    "name": "ipython",
    "version": 3
   },
   "file_extension": ".py",
   "mimetype": "text/x-python",
   "name": "python",
   "nbconvert_exporter": "python",
   "pygments_lexer": "ipython3",
   "version": "3.9.7"
  },
  "orig_nbformat": 4,
  "vscode": {
   "interpreter": {
    "hash": "69ce06fc222ac0d267d76867ccc954c4c1ce26612aad406f1f3d4a950bfd6b9f"
   }
  }
 },
 "nbformat": 4,
 "nbformat_minor": 2
}
